{
 "cells": [
  {
   "cell_type": "markdown",
   "metadata": {},
   "source": [
    "# ML 기말고사 정리\n",
    "\n",
    "## 1. Decision tree\n",
    "\n",
    "### 1.1 entropy\n",
    "\n",
    "높을수록 불안정한 값. 낮춰야하는 값.\n",
    "\n",
    "$$\n",
    "entropy = H(S) = -\\sum_c^C{p(c) \\times \\log_2 p(c)}\n",
    "$$"
   ]
  },
  {
   "cell_type": "code",
   "execution_count": 1,
   "metadata": {
    "collapsed": true
   },
   "outputs": [],
   "source": [
    "from math import log2\n",
    "\n",
    "def entropy(*events):\n",
    "    total = sum(events) + 1e-5\n",
    "    result = 0\n",
    "    for el in events:\n",
    "        if el == 0: continue # 앞의 p(c)가 0이라서 어차피 0이므로 그냥 통과~\n",
    "        prob = el / total\n",
    "        result -= prob * log2(prob)\n",
    "    return result"
   ]
  },
  {
   "cell_type": "code",
   "execution_count": 2,
   "metadata": {},
   "outputs": [
    {
     "data": {
      "text/plain": [
       "0.9402863175336368"
      ]
     },
     "execution_count": 2,
     "metadata": {},
     "output_type": "execute_result"
    }
   ],
   "source": [
    "entropy(5, 9)"
   ]
  },
  {
   "cell_type": "markdown",
   "metadata": {},
   "source": [
    "노드의 구성에 따라서 엔트로피가 어떻게 바뀌는지를 그래프로 그려보면 다음 그래프처럼 나온다.\n",
    "\n",
    "(0.5, 0.5) 구성일 때 가장 높고, (0, 1) 또는 (1, 0)일 때 가장 낮게 나온다."
   ]
  },
  {
   "cell_type": "code",
   "execution_count": 3,
   "metadata": {},
   "outputs": [
    {
     "data": {
      "image/png": "[encoded data removed]",
      "text/plain": [
       "<matplotlib.figure.Figure at 0x105713b00>"
      ]
     },
     "metadata": {},
     "output_type": "display_data"
    }
   ],
   "source": [
    "import matplotlib.pyplot as plt\n",
    "import numpy as np\n",
    "\n",
    "x1 = np.arange(0, 1.001, 0.01)\n",
    "x2 = 1 - x1\n",
    "\n",
    "y = [entropy(x1[i], x2[i]) for i in range(len(x1))]\n",
    "plt.plot(x1, y)\n",
    "plt.show()"
   ]
  },
  {
   "cell_type": "markdown",
   "metadata": {},
   "source": [
    "### 1.2 Information gain\n",
    "\n",
    "$$\n",
    "IG = H(S) - \\sum_{i \\in {L,R}}{|S^i| \\over |S|}H(S^i)\n",
    "$$\n",
    "\n",
    "- 어떤 한 attribute으로 데이터를 쪼갰을 때, 쪼개지 않았을 때에 비해 entropy가 얼마나 떨어지느냐\n",
    "- IG는 parent node 엔트로피에서 child node 엔트로피의 weighted sum을 뺀 값\n",
    "    + weighted의 의미는 각각의 나눠지는 child node들이 parent node에서 어느정도의 비율로 examples를 가져가는지\n",
    "    + $|S|$ 는 전체 examples의 개수, $|S_i|$는 i label의 examples 개수를 말하고 이 비율이 weight다.\n",
    "    + 위 공식에서 L, R은 그냥 이 케이스를 binary로 본것이고 Left, Right를 의미\n",
    "- 각 attribute로 parent node를 쪼개서 IG를 모두 구해보고, 가장 높은 IG를 갖는 attribute 선택"
   ]
  },
  {
   "cell_type": "code",
   "execution_count": 4,
   "metadata": {
    "collapsed": true
   },
   "outputs": [],
   "source": [
    "def information_gain(parent, *children):\n",
    "    p_en = entropy(*parent)\n",
    "    c_en = []\n",
    "    for child in children:\n",
    "        c_en.append(sum(child)/sum(parent) * entropy(*child))\n",
    "    return p_en - sum(c_en)"
   ]
  },
  {
   "cell_type": "code",
   "execution_count": 5,
   "metadata": {},
   "outputs": [
    {
     "data": {
      "text/plain": [
       "0.10584664415241218"
      ]
     },
     "execution_count": 5,
     "metadata": {},
     "output_type": "execute_result"
    }
   ],
   "source": [
    "information_gain([10, 20], [3, 14], [7, 6])"
   ]
  },
  {
   "cell_type": "markdown",
   "metadata": {},
   "source": [
    "### 1.3 Examples\n",
    "\n",
    "![Imgur](https://i.imgur.com/W3NmiSe.png)\n",
    "\n",
    "아래 식을 계산해보면 Outlook이 가장 높은 IG를 가지므로 Root node를 처음 나누는 기준은 Outlook이 된다."
   ]
  },
  {
   "cell_type": "code",
   "execution_count": 6,
   "metadata": {},
   "outputs": [
    {
     "name": "stdout",
     "output_type": "stream",
     "text": [
      "IG\n",
      "==========\n",
      "Outlook: 0.24674847422762258\n",
      "Temperature: 0.029221782734249135\n",
      "Humidity: 0.15183492559303535\n",
      "Wind: 0.048126622051042234\n"
     ]
    }
   ],
   "source": [
    "outlook_IG = information_gain([9, 5], [2, 3], [4, 0], [3, 2])\n",
    "temperature_IG = information_gain([9, 5], [2, 2], [4, 2], [3, 1])\n",
    "humidity_IG = information_gain([9, 5], [3, 4], [6, 1])\n",
    "wind_IG = information_gain([9, 5], [3, 3], [6, 2])\n",
    "\n",
    "print(\"IG\\n==========\")\n",
    "print(\"Outlook: {}\".format(outlook_IG))\n",
    "print(\"Temperature: {}\".format(temperature_IG))\n",
    "print(\"Humidity: {}\".format(humidity_IG))\n",
    "print(\"Wind: {}\".format(wind_IG))"
   ]
  },
  {
   "cell_type": "markdown",
   "metadata": {},
   "source": [
    "## 2. MLE, MAP\n",
    "\n",
    "### 2.1 개념\n",
    "\n",
    "- MLE : 각 사건의 확률에 발생 횟수를 제곱해서 모두 곱한 값. 주로 log를 취해서 summation 형태로 푼다. 결국 likelihood가 최대가 되는 확률은 단순히 \"해당 사건 발생 횟수 / 전체 사건 발생 횟수\"로 계산하면 됨\n",
    "- MAP : 위 계산한 MLE에 prior 확률 값을 곱해주기만 하면 끝. 수식적으로 각각의 확률의 승수 부분에 prior를 더해줘서 풀어도 상관 없음\n",
    "\n",
    "### 2.2 Casino coin 예제\n",
    "\n",
    "$$\n",
    "\\left\\{ \n",
    "\\begin{array}{ll}\n",
    "Data = {H, T, H, H, H, T, T} \\\\\n",
    "\\text{fair_coin}: P(H)=0.5, P(T)=0.5, P(fair)=0.99 \\\\\n",
    "\\text{loaded_coin}: P(H)=0.6, P(T)=0.4, P(loaded)=0.01\n",
    "\\end{array}\n",
    "\\right.\n",
    "$$\n",
    "\n",
    "---\n",
    "\n",
    "**MLE: 카지노가 loaded coin을 썼다고 판단** (0.0078 < 0.0083)\n",
    "\n",
    "$$\n",
    "\\left\\{ \n",
    "\\begin{array}{ll}\n",
    "MLE_{fair} = (0.5)^4 \\times (0.5)^3 = 0.0078125 \\\\\n",
    "MLE_{loaded} = (0.6)^4 \\times (0.4)^3 = 0.0082944\n",
    "\\end{array}\n",
    "\\right.\n",
    "$$\n",
    "\n",
    "**MAP: 카지노가 fair coin을 썼다고 판단** (0.0077 > 0.0001)\n",
    "\n",
    "$$\n",
    "\\left\\{ \n",
    "\\begin{array}{ll}\n",
    "MLE_{fair} = (0.5)^4 \\times (0.5)^3 \\times 0.99 = 0.007734375 \\\\\n",
    "MLE_{loaded} = (0.6)^4 \\times (0.4)^3 \\times 0.01 = 0.000082944\n",
    "\\end{array}\n",
    "\\right.\n",
    "$$"
   ]
  },
  {
   "cell_type": "markdown",
   "metadata": {},
   "source": [
    "## 3. Naive Bayes\n",
    "\n",
    "### 3.1 개념\n",
    "\n",
    "$$\n",
    "P(Y|X) = {P(X|Y)P(Y) \\over P(X)}\n",
    "$$\n",
    "\n",
    "- 일단 우리가 구하려고 하는것은 `P(Y|X)`다. X라는 데이터가 주어졌을 때 이게 어떤 Y를 나타내는건지를 알고싶은 것\n",
    "- 근데 이건 X의 진짜 분포를 알 수 없으므로 구할 수 없기 때문에 Bayes theorem으로 식을 변형해서 구해본다.\n",
    "- Bayes theorem으로 식을 변형해서 우항처럼 구해야할 값이 바뀌었다.\n",
    "    + `P(X|Y)`만을 maximize하는 Y를 구한다면 MLE로 문제를 푸는 것이고,\n",
    "    + `P(X|Y)*P(Y)` 전체를 maximize한다면 MAP 형태로 문제를 푸는 것이다.\n",
    "\n",
    "---\n",
    "\n",
    "$$\n",
    "\\left\\{ \n",
    "\\begin{array}{ll}\n",
    "P(X|Y) = P(x_1, x_2, x_3 | Y) \\\\ \n",
    "P(X|Y)= p(x_1|Y)\\times p(x_2|Y)\\times p(x_3|Y)\n",
    "\\end{array}\n",
    "\\right.\n",
    "$$\n",
    "\n",
    "- Feature가 3개인 데이터가 N개 존재한다고 가정해보자. 그러면 `P(X|Y)`는 위처럼 3개 feature에 대한 joint probability 형태로 표현할 수 있다.\n",
    "- 기존 베이즈 방식으로 joint probability를 계산\n",
    "    + x1, x2, x3가 일반적으로 분명히 연관이 있을것이므로\n",
    "    + 여러 조건부 확률의 곱으로 decompose 해야한다.\n",
    "    + 계산이 복잡하고 연산량도 많아짐\n",
    "- 모든 Feature가 독립이라고 naive하게 가정하고 푸는 것이 Naive Bayes 방식. 위 수식처럼 각 확률을 곱해버린다\n",
    "- 모든 Y값에 대해 각각 Naive Bayes로 확률을 구해보고, 그 중 가장 높은 Y를 선택하면 된다."
   ]
  },
  {
   "cell_type": "markdown",
   "metadata": {},
   "source": [
    "### 3.2 테니스 예제\n",
    "\n",
    "![Imgur](https://i.imgur.com/W3NmiSe.png)\n",
    "\n",
    "Question : 만약 X = {Outlook=Sunny, Temperature=Cool, Humidity=High, Wind=Strong} 이라면 테니스를 칠 것인가?\n",
    "\n",
    "---"
   ]
  },
  {
   "cell_type": "markdown",
   "metadata": {},
   "source": [
    "**테니스를 칠 확률은**\n",
    "\n",
    "$$\n",
    "\\left\\{ \n",
    "\\begin{array}{ll}\n",
    "P(Y=Yes | X) \\\\\n",
    "= {P(X|Y=Yes)P(Y) \\over P(X)} \\\\\n",
    "= P(Sunny|Yes)P(Cool|Yes)P(High|Yes)P(Strong|Yes)P(Yes) \\over P(X) \\\\\n",
    "= 2/9 \\times 3/9 \\times 3/9 \\times 3/9 \\times 9/14 \\over P(X) \\\\\n",
    "= 0.005291\n",
    "\\end{array}\n",
    "\\right.\n",
    "$$\n",
    "\n",
    "**테니스를 치지 않을 확률은**\n",
    "\n",
    "$$\n",
    "\\left\\{ \n",
    "\\begin{array}{ll}\n",
    "P(Y=No | X) \\\\\n",
    "= {P(X|Y=No)P(Y) \\over P(X)} \\\\\n",
    "= P(Sunny|No)P(Cool|No)P(High|No)P(Strong|No)P(No) \\over P(X) \\\\\n",
    "= 3/5 \\times 1/5 \\times 4/5 \\times 3/5 \\times 5/14 \\over P(X) \\\\\n",
    "= 0.020571\n",
    "\\end{array}\n",
    "\\right.\n",
    "$$\n",
    "\n",
    "`P(Y=No|X)`가 0.02로 `P(Y=Yes|X)`의 0.005보다 더 높기 때문에 테니스를 치지 않을 것으로 결론."
   ]
  },
  {
   "cell_type": "code",
   "execution_count": null,
   "metadata": {
    "collapsed": true
   },
   "outputs": [],
   "source": []
  }
 ],
 "metadata": {
  "kernelspec": {
   "display_name": "Python 2",
   "language": "python",
   "name": "python2"
  },
  "language_info": {
   "codemirror_mode": {
    "name": "ipython",
    "version": 2
   },
   "file_extension": ".py",
   "mimetype": "text/x-python",
   "name": "python",
   "nbconvert_exporter": "python",
   "pygments_lexer": "ipython2",
   "version": "2.7.12"
  }
 },
 "nbformat": 4,
 "nbformat_minor": 2
}
