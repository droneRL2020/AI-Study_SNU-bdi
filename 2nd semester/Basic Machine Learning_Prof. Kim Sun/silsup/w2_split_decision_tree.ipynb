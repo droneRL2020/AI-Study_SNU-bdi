{
 "cells": [
  {
   "cell_type": "code",
   "execution_count": 4,
   "metadata": {},
   "outputs": [
    {
     "name": "stdout",
     "output_type": "stream",
     "text": [
      "minSplitValue:     0.0\n",
      "minSplitFeature:   sepal length (cm)\n",
      "minSplitBoundary:  4.35\n"
     ]
    }
   ],
   "source": [
    "import numpy as np\n",
    "from sklearn.datasets import load_iris\n",
    "\n",
    "def gini(arr):\n",
    "\tclassCounts = np.unique(arr, return_counts=True)[1]\n",
    "\tsampleNum = arr.shape[0]\n",
    "\tp_arr = classCounts / float(sampleNum)\n",
    "\n",
    "\t# implement GINI index\n",
    "\t#ret = ???\n",
    "\tret=0\n",
    "\treturn ret\n",
    "\n",
    "def giniSplit(arr1, arr2):\n",
    "\tsampleNum1 = float(arr1.shape[0])\n",
    "\tsampleNum2 = float(arr2.shape[0])\n",
    "\ttotalSampleNum = sampleNum1 + sampleNum2\n",
    "\treturn gini(arr1) * sampleNum1 / totalSampleNum + \\\n",
    "\t\t   gini(arr2) * sampleNum2 / totalSampleNum\n",
    "\n",
    "iris = load_iris()\n",
    "feature = iris.data\n",
    "\n",
    "minGiniSplit = np.inf\n",
    "minSplitFeature = None\n",
    "minSplitBoundary = None\n",
    "\n",
    "\n",
    "for fIdx in range(feature.shape[1]):\n",
    "\tfeatureArr = feature[:,fIdx]\n",
    "\tuniqueSorted = np.unique(np.sort(featureArr))\n",
    "\n",
    "\tfor i in range(len(uniqueSorted)-1):\n",
    "\t\tsplitBoundary = (uniqueSorted[i] + uniqueSorted[i+1]) / 2.\n",
    "\t\tsplit1 = iris.target[featureArr <= splitBoundary]\n",
    "\t\tsplit2 = iris.target[featureArr > splitBoundary]\n",
    "\t\tginiSplitValue = giniSplit(split1, split2)\n",
    "\n",
    "\t\t#print fIdx, i, giniSplitValue\n",
    "\n",
    "\t\tif giniSplitValue < minGiniSplit:\n",
    "\t\t\tminGiniSplit = giniSplitValue\n",
    "\t\t\tminSplitFeature = fIdx\n",
    "\t\t\tminSplitBoundary = splitBoundary\n",
    "\n",
    "\n",
    "print 'minSplitValue:     {}'.format(minGiniSplit)\n",
    "print 'minSplitFeature:   {}'.format(iris.feature_names[minSplitFeature])\n",
    "print 'minSplitBoundary:  {}'.format(minSplitBoundary)"
   ]
  },
  {
   "cell_type": "code",
   "execution_count": 3,
   "metadata": {},
   "outputs": [
    {
     "name": "stdout",
     "output_type": "stream",
     "text": [
      "(150, 4)\n"
     ]
    }
   ],
   "source": [
    "print feature.shape"
   ]
  },
  {
   "cell_type": "code",
   "execution_count": null,
   "metadata": {
    "collapsed": true
   },
   "outputs": [],
   "source": []
  }
 ],
 "metadata": {
  "kernelspec": {
   "display_name": "Python 2",
   "language": "python",
   "name": "python2"
  },
  "language_info": {
   "codemirror_mode": {
    "name": "ipython",
    "version": 2
   },
   "file_extension": ".py",
   "mimetype": "text/x-python",
   "name": "python",
   "nbconvert_exporter": "python",
   "pygments_lexer": "ipython2",
   "version": "2.7.12"
  }
 },
 "nbformat": 4,
 "nbformat_minor": 2
}
