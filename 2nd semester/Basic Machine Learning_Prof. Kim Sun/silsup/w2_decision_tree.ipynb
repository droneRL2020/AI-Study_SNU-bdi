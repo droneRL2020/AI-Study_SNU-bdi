{
 "cells": [
  {
   "cell_type": "code",
   "execution_count": 5,
   "metadata": {},
   "outputs": [
    {
     "name": "stdout",
     "output_type": "stream",
     "text": [
      "[0 0 0 0 0 0 0 0 0 0 0 0 0 0 0 0 0 0 0 0 0 0 0 0 0 0 0 0 0 0 0 0 0 0 0 0 0\n",
      " 0 0 0 0 0 0 0 0 0 0 0 0 0 1 1 1 1 1 1 1 1 1 1 1 1 1 1 1 1 1 1 1 1 1 1 1 1\n",
      " 1 1 1 1 1 1 1 1 1 1 1 1 1 1 1 1 1 1 1 1 1 1 1 1 1 1 2 2 2 2 2 2 2 2 2 2 2\n",
      " 2 2 2 2 2 2 2 2 2 2 2 2 2 2 2 2 2 2 2 2 2 2 2 2 2 2 2 2 2 2 2 2 2 2 2 2 2\n",
      " 2 2]\n",
      "150\n",
      "150.0\n"
     ]
    }
   ],
   "source": [
    "from sklearn.datasets import load_iris\n",
    "from sklearn import tree\n",
    "import graphviz\n",
    "\n",
    "#Data load\n",
    "iris = load_iris()\n",
    "#print(iris.data)\n",
    "#print(iris.target)\n",
    "\n",
    "\n",
    "#Build Decision Tree Classifier Model\n",
    "clf = tree.DecisionTreeClassifier()\n",
    "\n",
    "#Fit Model to iris data\n",
    "clf = clf.fit(iris.data, iris.target)\n",
    "\n",
    "#Draw decision tree\n",
    "dot_data = tree.export_graphviz(clf, out_file=None) \n",
    "graph = graphviz.Source(dot_data) \n",
    "graph.render(\"iris\") \n",
    "#graph.view(\"iris\") \n",
    "\n",
    "#A characterized decision tree\n",
    "#dot_data = tree.export_graphviz(clf, out_file=None,\\\n",
    "#\t\t\t\t\t\tfeature_names=iris.feature_names,\\\n",
    "#\t\t\t\t\t\tclass_names=iris.target_names,\\\n",
    "#\t\t\t\t\t\tfilled=True, rounded=True,\\\n",
    "#\t\t\t\t\t\tspecial_characters=True)  \n",
    "#graph = graphviz.Source(dot_data)  \n",
    "#graph.render(\"iris_color\") \n",
    "#graph.view(\"iris_color\") \n",
    "\n",
    "#Identify prediction of the model\n",
    "predict = clf.predict(iris.data)\n",
    "print(predict)\n",
    "\n",
    "\n",
    "#Compute correct prediction rate\n",
    "numOfCorrectPrediction = (predict == iris.target).sum()  # It should be 150\n",
    "numOfDataSamples = iris.target.shape[0]  # Total number of sampels. It also should be 150.\n",
    "\n",
    "print numOfCorrectPrediction \n",
    "print float(numOfDataSamples)"
   ]
  },
  {
   "cell_type": "code",
   "execution_count": null,
   "metadata": {
    "collapsed": true
   },
   "outputs": [],
   "source": []
  },
  {
   "cell_type": "code",
   "execution_count": null,
   "metadata": {
    "collapsed": true
   },
   "outputs": [],
   "source": []
  }
 ],
 "metadata": {
  "kernelspec": {
   "display_name": "Python 2",
   "language": "python",
   "name": "python2"
  },
  "language_info": {
   "codemirror_mode": {
    "name": "ipython",
    "version": 2
   },
   "file_extension": ".py",
   "mimetype": "text/x-python",
   "name": "python",
   "nbconvert_exporter": "python",
   "pygments_lexer": "ipython2",
   "version": "2.7.12"
  }
 },
 "nbformat": 4,
 "nbformat_minor": 2
}
