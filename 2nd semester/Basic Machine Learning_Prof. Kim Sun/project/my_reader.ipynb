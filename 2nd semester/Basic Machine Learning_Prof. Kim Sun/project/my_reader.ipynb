{
 "cells": [
  {
   "cell_type": "code",
   "execution_count": 4,
   "metadata": {
    "collapsed": true
   },
   "outputs": [],
   "source": [
    "import numpy as np\n",
    "import csv\n",
    "\n",
    "class reader(object):\n",
    "    def __init__(self, data_file = \"data/train.csv\"):\n",
    "        self.value = []\n",
    "        self.batch_list = []\n",
    "        self.num_batch_list = 791\n",
    "        self.valid_list = []\n",
    "        with open(data_file, \"rb\") as f:\n",
    "            csv_reader = csv.reader(f, delimiter = \",\")\n",
    "            for i, row in enumerate(csv_reader):\n",
    "                if i == 0:\n",
    "                    self.attribute = row\n",
    "                    continue\n",
    "                self.value.append(row)\n",
    "        self.raw_to_vector(self.value)\n",
    "        self.num_examples = len(self.x)\n",
    "        self.start_index = 0\n",
    "        self.shuffle_indices = range(self.num_examples)\n",
    "\n",
    "    def raw_to_vector(self, value):\n",
    "        self.x = []\n",
    "        self.y = []\n",
    "        self.id = []\n",
    "        for row in self.value:\n",
    "            x = np.zeros(6)\n",
    "            x[0] = float(row[2])\n",
    "            x[1] = 0 if row[4] =='male' else 1\n",
    "            try: x[2] = float(row[5])\n",
    "            except: x[2] = 20.0\n",
    "            x[3] = float(row[6])\n",
    "            x[4] = float(row[7])\n",
    "            x[5] = float(row[9])\n",
    "\n",
    "            y = int(row[1])\n",
    "            id = int(row[0])\n",
    "\n",
    "            self.x.append(x)\n",
    "            self.y.append(y)\n",
    "            self.id.append(id)\n",
    "\n",
    "        self.x, self.y, self.id = np.array(self.x), np.array(self.y), np.array(self.id)\n",
    "\n",
    "    def next_batch(self, batch_size, split = \"train\"):\n",
    "        if self.start_index == 0:\n",
    "            np.random.shuffle(self.shuffle_indices)\n",
    "            for i, asdf in enumerate(self.shuffle_indices):\n",
    "                if i < 791:\n",
    "                    self.batch_list.append(self.shuffle_indices[i])\n",
    "                else:\n",
    "                    self.valid_list.append(self.shuffle_indices[i])\n",
    "            self.valid_list = self.valid_list*8\n",
    "        end_index = min([self.num_batch_list, self.start_index + batch_size])\n",
    "        print self.start_index, end_index,len(self.batch_list)\n",
    "        batch_indices = [self.batch_list[idx] for idx in range(self.start_index, end_index)]\n",
    "        val_indices = [self.valid_list[idx] for idx in range(self.start_index, end_index)]\n",
    "\n",
    "#         print type(batch_indices)\n",
    "#         print batch_indices\n",
    "#         print type(self.x)\n",
    "#         print len(self.valid_list)\n",
    "\n",
    "        batch_x = self.x[batch_indices]\n",
    "        batch_y = self.y[batch_indices]\n",
    "        batch_id = self.id[batch_indices]\n",
    "\n",
    "        val_batch_x = self.x[val_indices]\n",
    "        val_batch_y = self.y[val_indices]\n",
    "        val_batch_id = self.id[val_indices]\n",
    "\n",
    "        if end_index == self.num_batch_list:\n",
    "            self.start_index = 0\n",
    "        else: self.start_index = end_index\n",
    "\n",
    "        if split == \"train\":\n",
    "            return batch_x, batch_y, batch_id\n",
    "        if split ==\"val\":\n",
    "            return val_batch_x, val_batch_y, val_batch_id\n",
    "\n",
    "        "
   ]
  },
  {
   "cell_type": "code",
   "execution_count": 5,
   "metadata": {
    "collapsed": true
   },
   "outputs": [],
   "source": [
    "a = reader()"
   ]
  },
  {
   "cell_type": "code",
   "execution_count": 12,
   "metadata": {},
   "outputs": [
    {
     "data": {
      "text/plain": [
       "800"
      ]
     },
     "execution_count": 12,
     "metadata": {},
     "output_type": "execute_result"
    }
   ],
   "source": [
    "len(a.valid_list)"
   ]
  },
  {
   "cell_type": "code",
   "execution_count": 9,
   "metadata": {
    "scrolled": true
   },
   "outputs": [
    {
     "name": "stdout",
     "output_type": "stream",
     "text": [
      "45 50 791\n",
      "(array([[  3.    ,   0.    ,  18.    ,   1.    ,   0.    ,   6.4958],\n",
      "       [  1.    ,   0.    ,  35.    ,   0.    ,   0.    ,  26.55  ],\n",
      "       [  3.    ,   1.    ,   2.    ,   0.    ,   1.    ,  10.4625],\n",
      "       [  1.    ,   1.    ,  49.    ,   0.    ,   0.    ,  25.9292],\n",
      "       [  3.    ,   0.    ,  20.    ,   1.    ,   1.    ,  15.2458]]), array([0, 1, 0, 1, 1]), array([372, 605, 206, 797,  66]))\n",
      "50 55 791\n",
      "(array([[  3.    ,   0.    ,  21.    ,   0.    ,   0.    ,   7.775 ],\n",
      "       [  3.    ,   0.    ,  20.    ,   0.    ,   0.    ,   7.3125],\n",
      "       [  2.    ,   1.    ,  21.    ,   0.    ,   0.    ,  10.5   ],\n",
      "       [  2.    ,   0.    ,  28.    ,   0.    ,   1.    ,  33.    ],\n",
      "       [  3.    ,   0.    ,  24.    ,   0.    ,   0.    ,   7.7958]]), array([0, 0, 1, 0, 0]), array([409, 155,  57, 849, 500]))\n"
     ]
    }
   ],
   "source": [
    "print a.next_batch(5, split = \"val\")\n",
    "print a.next_batch(5)"
   ]
  },
  {
   "cell_type": "code",
   "execution_count": null,
   "metadata": {
    "collapsed": true
   },
   "outputs": [],
   "source": []
  }
 ],
 "metadata": {
  "kernelspec": {
   "display_name": "Python 2",
   "language": "python",
   "name": "python2"
  },
  "language_info": {
   "codemirror_mode": {
    "name": "ipython",
    "version": 2
   },
   "file_extension": ".py",
   "mimetype": "text/x-python",
   "name": "python",
   "nbconvert_exporter": "python",
   "pygments_lexer": "ipython2",
   "version": "2.7.12"
  }
 },
 "nbformat": 4,
 "nbformat_minor": 2
}
