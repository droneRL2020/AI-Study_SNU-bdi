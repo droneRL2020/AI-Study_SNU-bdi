{
 "cells": [
  {
   "cell_type": "code",
   "execution_count": 3,
   "metadata": {},
   "outputs": [],
   "source": [
    "import tensorflow as tf\n",
    "\n",
    "class dnn(object):\n",
    "    def __init__(self):\n",
    "        self.x = tf.placeholder(dtype=tf.float32, shape=[None, 6])\n",
    "        self.y = tf.placeholder(dtype=tf.int32, shape=[None])\n",
    "        \n",
    "        self.w_1, self.b_1 = tf.get_variables(name=\"w_1\", shape = [6, 50]),tf.get_variable(name=\"b_1\", shape=[50])\n",
    "        self.w_2, self.b_2 = tf.get_variables(name=\"w_2\", shape = [50, 50]), tf.get_variable(name=\"b_2\", shape=[50])\n",
    "        self.w_3, self.b_3 = tf.get_variableI(name=\"w_3\", shape = [50, 2]), tf.get_variable(name=\"b_3\", shape = [2])\n",
    "        \n",
    "        self.build_graph()\n",
    "        \n",
    "    def build_graph(self):\n",
    "        h1 = tf.matmul(self.x, self.w_1) + self.b_1\n",
    "        h1 = tf.nn.relu(h1)\n",
    "        \n",
    "        h2 = tf.matmul(h1, self.w_2) + self.b_2\n",
    "        h2 = tf.nn.relu(h2)\n",
    "        \n",
    "        h3 = tf.matmul(h2, self.w_3) + self.b_3\n",
    "        h3 = tf.nn.sotfmax(h3, dim=-1)\n",
    "        \n",
    "        prediction = h3\n",
    "        \n",
    "        y_onehot = tf.one_hot(\n",
    "        indices = self.y, \n",
    "        depth = 2, \n",
    "        on_value = 1.0,\n",
    "        off_value = 0.0,\n",
    "        )\n",
    "        \n",
    "        self.loss = tf.reduce_mean((y_onehot - prediction)* (y_onehot - prediction))\n",
    "        \n",
    "        optimizer = tf.train.GradientDescentOptimizer(learning_rate=0.01)\n",
    "        \n",
    "        self.train_op = optimizer.minimize(self.loss)"
   ]
  },
  {
   "cell_type": "code",
   "execution_count": null,
   "metadata": {
    "collapsed": true
   },
   "outputs": [],
   "source": []
  }
 ],
 "metadata": {
  "kernelspec": {
   "display_name": "Python 2",
   "language": "python",
   "name": "python2"
  },
  "language_info": {
   "codemirror_mode": {
    "name": "ipython",
    "version": 2
   },
   "file_extension": ".py",
   "mimetype": "text/x-python",
   "name": "python",
   "nbconvert_exporter": "python",
   "pygments_lexer": "ipython2",
   "version": "2.7.12"
  }
 },
 "nbformat": 4,
 "nbformat_minor": 2
}
