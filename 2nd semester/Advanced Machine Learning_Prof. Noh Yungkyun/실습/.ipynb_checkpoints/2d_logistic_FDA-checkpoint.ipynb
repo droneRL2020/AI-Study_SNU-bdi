{
 "cells": [
  {
   "cell_type": "markdown",
   "metadata": {},
   "source": [
    "##Import Libraries"
   ]
  },
  {
   "cell_type": "code",
   "execution_count": 1,
   "metadata": {},
   "outputs": [
    {
     "name": "stdout",
     "output_type": "stream",
     "text": [
      "Populating the interactive namespace from numpy and matplotlib\n"
     ]
    }
   ],
   "source": [
    "import tensorflow as tf\n",
    "import numpy as np\n",
    "import matplotlib.pyplot as plt\n",
    "\n",
    "%pylab inline"
   ]
  },
  {
   "cell_type": "markdown",
   "metadata": {},
   "source": [
    "##Data Generation"
   ]
  },
  {
   "cell_type": "markdown",
   "metadata": {},
   "source": [
    "We use a two-class synthetic dataset from two different Gaussian density functions.\n",
    "\\begin{eqnarray}\n",
    "p(\\mathbf{x}|\\mu_c, \\Sigma_c) = \\frac{1}{\\sqrt{2\\pi}|\\Sigma_c|^\\frac{1}{2}} \\exp\\left(-\\frac{1}{2}(\\mathbf{x} - \\mu_c)^\\top\\Sigma_c^{-1}(\\mathbf{x} - \\mu_c)\\right)   \\quad \\text{for class} \\quad c = \\{1,2\\}\n",
    "\\end{eqnarray}\n",
    "\n",
    "The first class uses $\\mu_1 = \\left(\\begin{array}{c}\n",
    "4 \\\\\n",
    "0\n",
    "\\end{array}\\right)$, $\\Sigma_1 = \\left(\\begin{array}{cc}\n",
    "3 & 2 \\\\\n",
    "2 & 3\n",
    "\\end{array}\\right)$, and the second class uses $\\mu_2 = \\left(\\begin{array}{c}\n",
    "0 \\\\\n",
    "4\n",
    "\\end{array}\\right)$, $\\Sigma_2 = \\left(\\begin{array}{cc}\n",
    "3 & 2 \\\\\n",
    "2 & 3\n",
    "\\end{array}\\right)$."
   ]
  },
  {
   "cell_type": "code",
   "execution_count": 2,
   "metadata": {},
   "outputs": [],
   "source": [
    "n_data_per_class = 100\n",
    "num_class = 2\n",
    "dim_data = 2\n",
    "n_data = n_data_per_class * num_class\n",
    "n_train = n_data_per_class\n",
    "\n",
    "data1 = np.random.multivariate_normal([4,0], [[3,2],[2,3]], n_data_per_class).astype(np.float32)\n",
    "data2 = np.random.multivariate_normal([0,4], [[3,2],[2,3]], n_data_per_class).astype(np.float32)\n",
    "data_x = np.vstack([data1,data2])\n",
    "data_y = np.hstack([np.ones((n_data_per_class,)), np.zeros((n_data_per_class,))])"
   ]
  },
  {
   "cell_type": "code",
   "execution_count": 3,
   "metadata": {},
   "outputs": [
    {
     "name": "stdout",
     "output_type": "stream",
     "text": [
      "blues are class 0 and reds are class 1\n"
     ]
    },
    {
     "data": {
      "image/png": "[encoded data removed]",
      "text/plain": [
       "<matplotlib.figure.Figure at 0x7fdd5ff7f8d0>"
      ]
     },
     "metadata": {},
     "output_type": "display_data"
    }
   ],
   "source": [
    "print 'blues are class 0 and reds are class 1'\n",
    "plt.rcParams['figure.figsize']=(5,5)\n",
    "plt.scatter(data1[:,0],data1[:,1],30,'r')\n",
    "plt.scatter(data2[:,0],data2[:,1],30,'b')\n",
    "[x1min,x1max,x2min,x2max] = plt.axis()\n",
    "x1val = np.arange(x1min,x1max,0.1)\n",
    "plt.axis([x1min,x1max,x2min,x2max])\n",
    "plt.show()"
   ]
  },
  {
   "cell_type": "markdown",
   "metadata": {},
   "source": [
    "##Logistic Regression"
   ]
  },
  {
   "cell_type": "markdown",
   "metadata": {},
   "source": [
    "\\begin{align}\n",
    "y_n &= \\sigma(\\mathbf{w}^{\\top} x + b) \\\\\n",
    "p(y | \\mathbf{w}, b) &= \\prod_{n=1}^{N} y_n^{y_{true}} (1-y_n)^{1-y_{true}} \\\\\n",
    "loss &= -\\sum_{n=1}^{N} y_{true}ln y_n + (1-y_{true})ln(1-y_n)\n",
    "\\end{align}"
   ]
  },
  {
   "cell_type": "code",
   "execution_count": 4,
   "metadata": {},
   "outputs": [],
   "source": [
    "x = tf.placeholder(tf.float32, [None, dim_data])\n",
    "W = tf.Variable(np.reshape(np.array([3.0, 0.5], dtype=float32), (2,1)))\n",
    "b = tf.Variable(0.0)\n",
    "y_true = tf.placeholder(tf.float32, [None])\n",
    "\n",
    "a = tf.sigmoid(tf.matmul(x, W) + b)\n",
    "#p_y = tf.sigmoid(tf.multiply(a ,tf.reshape(y_true, [-1,1]) ))\n",
    "\n",
    "#loss = tf.reduce_mean(tf.multiply(y_true, a) + tf.multiply(1-y_true, 1-a))\n",
    "loss = -tf.reduce_mean(tf.multiply(tf.reshape(y_true, [-1,1]), a) + tf.multiply(tf.reshape(np.array([1], dtype=float32), [-1,1])-tf.reshape(y_true, [-1,1]), tf.reshape(np.array([1], dtype=float32), [-1,1])-a))\n",
    "train_step = tf.train.GradientDescentOptimizer(0.5).minimize(loss)\n",
    "\n"
   ]
  },
  {
   "cell_type": "code",
   "execution_count": 5,
   "metadata": {},
   "outputs": [],
   "source": [
    "config = tf.ConfigProto()\n",
    "config.gpu_options.allow_growth=True\n",
    "sess = tf.Session(config=config)\n",
    "sess.run(tf.global_variables_initializer())\n"
   ]
  },
  {
   "cell_type": "markdown",
   "metadata": {},
   "source": [
    "##FDA"
   ]
  },
  {
   "cell_type": "code",
   "execution_count": 6,
   "metadata": {
    "collapsed": true
   },
   "outputs": [],
   "source": [
    "from sklearn.discriminant_analysis import LinearDiscriminantAnalysis as LDA\n",
    "\n",
    "# LDA\n",
    "sklearn_lda = LDA(n_components=2)\n"
   ]
  },
  {
   "cell_type": "markdown",
   "metadata": {},
   "source": [
    "##Compare the models"
   ]
  },
  {
   "cell_type": "code",
   "execution_count": 7,
   "metadata": {},
   "outputs": [],
   "source": [
    "def run_models(num_train_data, num_training_steps=30):\n",
    "    \n",
    "    sess.run(tf.global_variables_initializer())\n",
    "    \n",
    "    wval = sess.run(W) # 2 by 1   \n",
    "    bval = sess.run(b) # 1\n",
    "    #print wval, bval\n",
    "    \n",
    "    train_x = np.vstack([data1[:num_train_data],data2[:num_train_data]])\n",
    "    train_y = np.hstack([np.ones((num_train_data,)), np.zeros((num_train_data,))])\n",
    "\n",
    "    test_x = np.vstack([data1[num_train_data:],data2[num_train_data:]])\n",
    "    num_test = n_data_per_class-num_train_data\n",
    "    test_y = np.hstack([np.ones((num_test,)), np.zeros((num_test,))])\n",
    "    \n",
    "    w_history = []\n",
    "    b_history = []\n",
    "    acc_history = []\n",
    "    loss_history = []\n",
    "    for i in range(num_training_steps):\n",
    "        sess.run(train_step, feed_dict={x: train_x, y_true: train_y})\n",
    "        w_history.append( sess.run(W) )\n",
    "        b_history.append( sess.run(b) )\n",
    "        #loss_history.append( sess.run(loss))\n",
    "        loss_history.append( sess.run(loss, feed_dict={x: train_x, y_true: train_y}) )\n",
    "    \n",
    "    \n",
    "        a_tst = sess.run(a, feed_dict = {x:test_x, y_true: test_y})\n",
    "        n_correct_c1 = sum(a_tst[:num_test] >= 0.5)\n",
    "        n_correct_c2 = sum(a_tst[num_test:] < 0.5)\n",
    "        acc = (n_correct_c1 + n_correct_c2) / (float(num_test)*2)\n",
    "    \n",
    "        acc_history.append(acc)\n",
    "    \n",
    "    return w_history, b_history, acc_history, loss_history\n",
    "\n",
    "   "
   ]
  },
  {
   "cell_type": "code",
   "execution_count": 8,
   "metadata": {},
   "outputs": [
    {
     "name": "stderr",
     "output_type": "stream",
     "text": [
      "/usr/local/lib/python2.7/dist-packages/IPython/html.py:14: ShimWarning: The `IPython.html` package has been deprecated since IPython 4.0. You should import from `notebook` instead. `IPython.html.widgets` has moved to `ipywidgets`.\n",
      "  \"`IPython.html.widgets` has moved to `ipywidgets`.\", ShimWarning)\n"
     ]
    }
   ],
   "source": [
    "import IPython.html.widgets as widgets\n",
    "from IPython.html.widgets import interact, interactive, fixed, interact_manual"
   ]
  },
  {
   "cell_type": "code",
   "execution_count": 9,
   "metadata": {
    "collapsed": true
   },
   "outputs": [],
   "source": [
    "def visualize(w_his, b_his, acc_his, loss_his, iter_step, num_train_data):\n",
    "    num_test = n_data_per_class-num_train_data\n",
    "\n",
    "    plt.subplot(221)\n",
    "    plt.rcParams['figure.figsize']=(25,5)\n",
    "    plt.scatter(data1[:num_train_data,0],data1[:num_train_data,1],30,'r')\n",
    "    plt.scatter(data2[:num_train_data,0],data2[:num_train_data,1],30,'b')\n",
    "    [x1min,x1max,x2min,x2max] = plt.axis()\n",
    "    x1val = np.arange(x1min,x1max,0.1)\n",
    "    wval = w_his[iter_step] # 2 by 1   \n",
    "    bval = b_his[iter_step] # 1\n",
    "    plt.plot(x1val, -(wval[0]*x1val+bval)/wval[1], 'k')\n",
    "    plt.axis([x1min,x1max,x2min,x2max])\n",
    "\n",
    "\n",
    "\n",
    "    plt.subplot(223)\n",
    "    #plt.rcParams['figure.figsize']=(25,10)\n",
    "    plt.scatter(data1[num_train_data:,0],data1[num_train_data:,1],30,'r')\n",
    "    plt.scatter(data2[num_train_data:,0],data2[num_train_data:,1],30,'b')\n",
    "    [x1min,x1max,x2min,x2max] = plt.axis()\n",
    "    x1val = np.arange(x1min,x1max,0.1)\n",
    "    #wval = sess.run(W) # 2 by 1   \n",
    "    #bval = sess.run(b) # 1\n",
    "    plt.plot(x1val, -(wval[0]*x1val+bval)/wval[1], 'k')\n",
    "    plt.axis([x1min,x1max,x2min,x2max])\n",
    "\n",
    "    print \"accuracy of the LR: \" + str(acc_his[iter_step])\n",
    "\n",
    "    \n",
    "    \n",
    "    train_x = np.vstack([data1[:num_train_data],data2[:num_train_data]])\n",
    "    train_y = np.hstack([np.ones((num_train_data,)), np.zeros((num_train_data,))])\n",
    "\n",
    "    test_x = np.vstack([data1[num_train_data:],data2[num_train_data:]])\n",
    "    test_y = np.hstack([np.ones((num_test,)), np.zeros((num_test,))])\n",
    "    \n",
    "\n",
    "    plt.subplot(222)\n",
    "    X_lda_sklearn = sklearn_lda.fit_transform(train_x, train_y)\n",
    "    transformed = sklearn_lda.transform(train_x)\n",
    "    #plt.rcParams['figure.figsize']=(5,5)\n",
    "    plt.scatter(transformed[:num_train_data,0], np.ones(num_train_data), 30,'r')\n",
    "    plt.scatter(transformed[num_train_data:,0], np.zeros(num_train_data), 30,'b')\n",
    "    [x1min,x1max,x2min,x2max] = plt.axis()\n",
    "    x1val = np.arange(x1min,x1max,0.1)\n",
    "    plt.axis([x1min,x1max,x2min,x2max])\n",
    "\n",
    "    \n",
    "    plt.subplot(224)\n",
    "    transformed = sklearn_lda.transform(test_x)\n",
    "    plt.scatter(transformed[:num_test,0], np.ones(num_test), 30,'r')\n",
    "    plt.scatter(transformed[num_test:,0], np.zeros(num_test), 30,'b')\n",
    "    [x1min,x1max,x2min,x2max] = plt.axis()\n",
    "    x1val = np.arange(x1min,x1max,0.1)\n",
    "    plt.axis([x1min,x1max,x2min,x2max])\n",
    "\n",
    "    tst_result = sklearn_lda.predict(test_x)\n",
    "    n_correct_c1 = sum(tst_result[:num_test] == 1)\n",
    "    n_correct_c2 = sum(tst_result[num_test:] == 0)\n",
    "\n",
    "    acc = (n_correct_c1 + n_correct_c2) / (float(num_test)*2)\n",
    "    print \"accuracy of the FDA: \" + str(acc)\n"
   ]
  },
  {
   "cell_type": "markdown",
   "metadata": {},
   "source": [
    "##Learning curve (according to the epoch)"
   ]
  },
  {
   "cell_type": "code",
   "execution_count": 10,
   "metadata": {},
   "outputs": [
    {
     "name": "stdout",
     "output_type": "stream",
     "text": [
      "accuracy of the LR: 0.7\n",
      "accuracy of the FDA: 1.0\n"
     ]
    },
    {
     "data": {
      "image/png": "[encoded data removed]",
      "text/plain": [
       "<matplotlib.figure.Figure at 0x7fdd07e4f150>"
      ]
     },
     "metadata": {},
     "output_type": "display_data"
    }
   ],
   "source": [
    "#a_slider = widgets.IntSlider(min=3, max=n_data_per_class, step=1, value=3)\n",
    "#w_his, b_his = widgets.interactive(run_models, num_train_data = a_slider)\n",
    "num_train_data = 50\n",
    "w_his, b_his, acc_his, loss_his = run_models(num_train_data)\n",
    "b_slider = widgets.IntSlider(min=1, max = 30, step = 1, value = 1)\n",
    "w=widgets.interactive(visualize, w_his = fixed(w_his), b_his = fixed(b_his), acc_his = fixed(acc_his), loss_his = fixed(loss_his), num_train_data = fixed(num_train_data), iter_step = b_slider)\n",
    "#w=widgets.interactive(visualize, w_his = w_his, b_his = b_his, num_train_data = num_train_data, iter_step = b_slider)\n",
    "display(w)"
   ]
  },
  {
   "cell_type": "markdown",
   "metadata": {},
   "source": [
    "##Compare the Loss of the two functions according to the number of the training data"
   ]
  },
  {
   "cell_type": "code",
   "execution_count": 11,
   "metadata": {
    "scrolled": true
   },
   "outputs": [],
   "source": [
    "loss_lr = []\n",
    "loss_fda = []\n",
    "\n",
    "for num_train_data in range(5,50):\n",
    "    _, _, acc_his_lr, _ = run_models(num_train_data, 50)\n",
    "    loss_lr.append([num_train_data, 1-acc_his_lr[-1]])\n",
    "    \n",
    "    train_x = np.vstack([data1[:num_train_data],data2[:num_train_data]])\n",
    "    train_y = np.hstack([np.ones((num_train_data,)), np.zeros((num_train_data,))])\n",
    "    \n",
    "    num_test = n_data_per_class-num_train_data\n",
    "\n",
    "    test_x = np.vstack([data1[num_train_data:],data2[num_train_data:]])\n",
    "    test_y = np.hstack([np.ones((num_test,)), np.zeros((num_test,))])\n",
    "     \n",
    "    X_lda_sklearn = sklearn_lda.fit_transform(train_x, train_y)\n",
    "    \n",
    "    tst_result = sklearn_lda.predict(test_x)\n",
    "    n_correct_c1 = sum(tst_result[:num_test] == 1)\n",
    "    n_correct_c2 = sum(tst_result[num_test:] == 0)\n",
    "\n",
    "    acc_fda =  (n_correct_c1 + n_correct_c2) / (float(num_test)*2) \n",
    "    loss_fda.append([num_train_data, 1-acc_fda])\n",
    "    "
   ]
  },
  {
   "cell_type": "code",
   "execution_count": 12,
   "metadata": {},
   "outputs": [],
   "source": [
    "loss_lr = np.vstack(loss_lr)\n",
    "loss_fda = np.vstack(loss_fda)"
   ]
  },
  {
   "cell_type": "code",
   "execution_count": 13,
   "metadata": {},
   "outputs": [
    {
     "data": {
      "image/png": "[encoded data removed]",
      "text/plain": [
       "<matplotlib.figure.Figure at 0x7fdd06fe6a90>"
      ]
     },
     "metadata": {},
     "output_type": "display_data"
    }
   ],
   "source": [
    "figure\n",
    "\n",
    "plt.plot(loss_lr[:, 1], 'r')\n",
    "plt.plot(loss_fda[:, 1], 'b')\n",
    "#plt.scatter(loss_lr[:, 0], loss_lr[:, 1], 30, 'r')\n",
    "#plt.scatter(loss_fda[:, 0], loss_fda[:, 1], 30, 'b')\n",
    "plt.show()"
   ]
  },
  {
   "cell_type": "code",
   "execution_count": null,
   "metadata": {
    "collapsed": true
   },
   "outputs": [],
   "source": []
  }
 ],
 "metadata": {
  "kernelspec": {
   "display_name": "Python 2",
   "language": "python",
   "name": "python2"
  },
  "language_info": {
   "codemirror_mode": {
    "name": "ipython",
    "version": 2
   },
   "file_extension": ".py",
   "mimetype": "text/x-python",
   "name": "python",
   "nbconvert_exporter": "python",
   "pygments_lexer": "ipython2",
   "version": "2.7.12"
  }
 },
 "nbformat": 4,
 "nbformat_minor": 1
}
